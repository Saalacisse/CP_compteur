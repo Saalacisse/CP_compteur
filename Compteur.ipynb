{
 "cells": [
  {
   "cell_type": "markdown",
   "id": "a069f5e3",
   "metadata": {},
   "source": [
    "### Compteur \n",
    "Objectif du point de contrôle\n",
    "\n",
    "Dans ce projet, vous pourrez créer un compte à rebours en utilisant Python. Le code prendra l'entrée de l'utilisateur concernant la longueur du compte à rebours en secondes. Après cela, un compte à rebours commencera sur l'écran du format 'minutes : secondes . Nous utiliserons ici le module de temps.\n",
    "\n",
    "Instructions\n",
    "Dans ce projet, nous utiliserons le module time et sa fonction sleep() . Suivez les étapes ci-dessous pour créer un compte à rebours :\n",
    "\n",
    "1 - Importez le module de temps.\n",
    "2 - Demandez à l'utilisateur de saisir la durée du compte à rebours en secondes.\n",
    "Cette valeur est envoyée en tant que paramètre 't' à la fonction définie par l'utilisateur countdown() . Toute variable lue à l'aide de la fonction d'entrée est une chaîne. Donc, convertissez ce paramètre en 'int' car il est de type chaîne.\n",
    "3 - Dans cette fonction, une boucle while s'exécute jusqu'à ce que time devienne 0.\n",
    "4 - Utilisez divmod() pour calculer le nombre de minutes et de secondes. Vous pouvez en savoir plus ici.\n",
    "5 - Imprimez maintenant les minutes et les secondes à l'écran en utilisant le timeformat variable .\n",
    "6 - En utilisant end = '\\r', nous forçons le curseur à revenir au début de l'écran (retour chariot) afin que la prochaine ligne imprimée écrase la précédente.\n",
    "7 - Le time.sleep() est utilisé pour faire attendre le code pendant une seconde.\n",
    "8 - Décrémentez maintenant le temps pour que la boucle while puisse converger.\n",
    "9 - Après l'achèvement de la boucle, nous imprimerons \"Fire in the hole\" pour signifier la fin du compte à rebours."
   ]
  },
  {
   "cell_type": "code",
   "execution_count": 3,
   "id": "009c786d",
   "metadata": {},
   "outputs": [
    {
     "name": "stdout",
     "output_type": "stream",
     "text": [
      "Entrer la durée du compteur (en secondes): 6\n",
      "Fire in the hole\n"
     ]
    }
   ],
   "source": [
    "import time\n",
    "\n",
    "def compteur(t):\n",
    "    while t:\n",
    "        mins, secs = divmod(t, 60)\n",
    "        timeformat = '{:02d}:{:02d}'.format(mins, secs)\n",
    "        print(timeformat, end='\\r')\n",
    "        time.sleep(1)\n",
    "        t -= 1\n",
    "\n",
    "# Demandez à l'utilisateur de saisir la durée du compte à rebours en secondes.\n",
    "secondes = int(input(\"Entrer la durée du compteur (en secondes): \"))\n",
    "\n",
    "# Appeler la fonction compteur.\n",
    "compteur(secondes)\n",
    "print(\"Fire in the hole\")"
   ]
  },
  {
   "cell_type": "code",
   "execution_count": null,
   "id": "2814b26e",
   "metadata": {},
   "outputs": [],
   "source": []
  }
 ],
 "metadata": {
  "kernelspec": {
   "display_name": "Python 3 (ipykernel)",
   "language": "python",
   "name": "python3"
  },
  "language_info": {
   "codemirror_mode": {
    "name": "ipython",
    "version": 3
   },
   "file_extension": ".py",
   "mimetype": "text/x-python",
   "name": "python",
   "nbconvert_exporter": "python",
   "pygments_lexer": "ipython3",
   "version": "3.10.9"
  }
 },
 "nbformat": 4,
 "nbformat_minor": 5
}
